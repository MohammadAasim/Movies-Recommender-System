{
 "cells": [
  {
   "cell_type": "markdown",
   "id": "813be3df",
   "metadata": {},
   "source": [
    "# **Content Based Movies Recommender System**"
   ]
  },
  {
   "cell_type": "markdown",
   "id": "b4c46a28",
   "metadata": {},
   "source": [
    "#### **What are Recommendation Systems?**"
   ]
  },
  {
   "cell_type": "markdown",
   "id": "7ae533e4",
   "metadata": {},
   "source": [
    "Recommendation systems are the systems that are used to gain more user attraction by understanding the user’s taste. These systems have now become popular because of their ability to provide personalized content to users that are of the user’s interest. These days millions of products are listed on e-commerce websites that make it impossible to find out a product of our desired choice. This is where these systems help us by quickly recommending us with the desired products. Also, Netflix suggests the same genre movies to us by understanding our interest/ choice of movies we like similarly Youtube recommends videos to us."
   ]
  },
  {
   "cell_type": "markdown",
   "id": "cfd3835f",
   "metadata": {},
   "source": [
    "#### **What is Popularity Based and Content-Based Recommendation System?**"
   ]
  },
  {
   "cell_type": "markdown",
   "id": "a214f5cd",
   "metadata": {},
   "source": [
    "Popularity Based recommendation systems are systems that do recommendation on the basis of popularity or trends. The best example of this system is Google News. There is an option of Top Stories as shown in the below image. The news that is displayed there is all related to news that is in trend or is currently popular. This is exactly how popularity based systems work; they recommend those things that are currently trending. Youtube trending videos are another example of such systems."
   ]
  },
  {
   "cell_type": "code",
   "execution_count": null,
   "id": "ea810b9d",
   "metadata": {},
   "outputs": [],
   "source": []
  }
 ],
 "metadata": {
  "kernelspec": {
   "display_name": "Python 3 (ipykernel)",
   "language": "python",
   "name": "python3"
  },
  "language_info": {
   "codemirror_mode": {
    "name": "ipython",
    "version": 3
   },
   "file_extension": ".py",
   "mimetype": "text/x-python",
   "name": "python",
   "nbconvert_exporter": "python",
   "pygments_lexer": "ipython3",
   "version": "3.8.8"
  }
 },
 "nbformat": 4,
 "nbformat_minor": 5
}
